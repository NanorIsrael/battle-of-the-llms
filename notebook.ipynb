{
 "cells": [
  {
   "cell_type": "code",
   "execution_count": 1,
   "metadata": {},
   "outputs": [],
   "source": [
    "from dotenv import load_dotenv\n",
    "import os"
   ]
  },
  {
   "cell_type": "code",
   "execution_count": 50,
   "metadata": {},
   "outputs": [],
   "source": [
    "from langchain import HuggingFaceHub\n",
    "# from langchain.huggingface import  HuggingFaceHub\n",
    "\n",
    "model = \"google/flan-t5-base\"\n",
    "\n",
    "# Initialize HuggingFaceHub with your API token\n",
    "hf_hub = HuggingFaceHub(\n",
    "    repo_id=\"google/flan-t5-base\",\n",
    ")"
   ]
  },
  {
   "cell_type": "code",
   "execution_count": 129,
   "metadata": {},
   "outputs": [],
   "source": [
    "# from custom_gemini.customgemini import gemini_llm\n",
    "# from langchain_core.runnables import RunnableSequence\n",
    "from langchain_google_genai import ChatGoogleGenerativeAI"
   ]
  },
  {
   "cell_type": "code",
   "execution_count": 130,
   "metadata": {},
   "outputs": [],
   "source": [
    "llm = ChatGoogleGenerativeAI(model='gemini-pro')"
   ]
  },
  {
   "cell_type": "code",
   "execution_count": 51,
   "metadata": {},
   "outputs": [],
   "source": [
    "from langchain_core.prompts import PromptTemplate\n",
    "from langchain import LLMChain"
   ]
  },
  {
   "cell_type": "code",
   "execution_count": 92,
   "metadata": {},
   "outputs": [],
   "source": [
    "\n",
    "code_prompt = PromptTemplate(\n",
    "\ttemplate=\"write a complete {language} function that will {task}\",\n",
    "\tinput_variables=[\"language\", \"task\"]\n",
    ")\n",
    "\n",
    "verification_prompt = PromptTemplate(\n",
    "\ttemplate=\"write a test in {language} for code {code}\",\n",
    "\tinput_variables=[\"language\", \"code\"]\n",
    ")\n"
   ]
  },
  {
   "cell_type": "code",
   "execution_count": 131,
   "metadata": {},
   "outputs": [],
   "source": [
    "code_chain = LLMChain(llm=llm, prompt=code_prompt, output_key=\"code\")"
   ]
  },
  {
   "cell_type": "code",
   "execution_count": 132,
   "metadata": {},
   "outputs": [],
   "source": [
    "test_chain = LLMChain(llm=llm, prompt=verification_prompt, output_key=\"test\")"
   ]
  },
  {
   "cell_type": "code",
   "execution_count": 133,
   "metadata": {},
   "outputs": [],
   "source": [
    "result = code_chain({\n",
    "\t\"language\": \"python\",\n",
    "\t\"task\": \"print hello\" \n",
    "})"
   ]
  },
  {
   "cell_type": "code",
   "execution_count": 134,
   "metadata": {},
   "outputs": [],
   "source": [
    "from langchain.chains import  SequentialChain"
   ]
  },
  {
   "cell_type": "code",
   "execution_count": 135,
   "metadata": {},
   "outputs": [],
   "source": [
    "com_chain = SequentialChain(\n",
    "\tchains=[code_chain, test_chain],\n",
    "\tinput_variables=[\"task\", \"language\"],\n",
    "\toutput_variables=[\"test\", \"code\"],\n",
    ")"
   ]
  },
  {
   "cell_type": "code",
   "execution_count": 136,
   "metadata": {},
   "outputs": [],
   "source": [
    "result = com_chain({\n",
    "\t\"language\": \"python\",\n",
    "\t\"task\": \"print hello\" \n",
    "})"
   ]
  },
  {
   "cell_type": "code",
   "execution_count": 139,
   "metadata": {},
   "outputs": [
    {
     "name": "stdout",
     "output_type": "stream",
     "text": [
      "```python\n",
      "import unittest\n",
      "\n",
      "class TestPrintHello(unittest.TestCase):\n",
      "\n",
      "    def test_print_hello(self):\n",
      "        \"\"\"Tests that the print_hello function prints \"hello\" to the console.\"\"\"\n",
      "\n",
      "        # Capture the output of the print_hello function\n",
      "        with io.StringIO() as output:\n",
      "            print_hello()\n",
      "\n",
      "        # Assert that the output contains the string \"hello\"\n",
      "        self.assertIn(\"hello\", output.getvalue())\n",
      "```\n"
     ]
    }
   ],
   "source": [
    "print(result['test'])\n"
   ]
  },
  {
   "cell_type": "code",
   "execution_count": 140,
   "metadata": {},
   "outputs": [
    {
     "name": "stdout",
     "output_type": "stream",
     "text": [
      "```python\n",
      "def print_hello():\n",
      "    \"\"\"Prints \"hello\" to the console.\"\"\"\n",
      "    print(\"hello\")\n",
      "```\n"
     ]
    }
   ],
   "source": [
    "print(result['code'])"
   ]
  },
  {
   "cell_type": "code",
   "execution_count": null,
   "metadata": {},
   "outputs": [],
   "source": []
  }
 ],
 "metadata": {
  "kernelspec": {
   "display_name": "Python 3",
   "language": "python",
   "name": "python3"
  },
  "language_info": {
   "codemirror_mode": {
    "name": "ipython",
    "version": 3
   },
   "file_extension": ".py",
   "mimetype": "text/x-python",
   "name": "python",
   "nbconvert_exporter": "python",
   "pygments_lexer": "ipython3",
   "version": "3.11.9"
  }
 },
 "nbformat": 4,
 "nbformat_minor": 2
}
