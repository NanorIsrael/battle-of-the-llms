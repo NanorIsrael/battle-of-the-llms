{
 "cells": [
  {
   "cell_type": "code",
   "execution_count": 1,
   "metadata": {},
   "outputs": [
    {
     "name": "stderr",
     "output_type": "stream",
     "text": [
      "/Users/compozerisrael/Desktop/cLabs/personal proj/llms/battle-of-the-llms/venv/lib/python3.11/site-packages/tqdm/auto.py:21: TqdmWarning: IProgress not found. Please update jupyter and ipywidgets. See https://ipywidgets.readthedocs.io/en/stable/user_install.html\n",
      "  from .autonotebook import tqdm as notebook_tqdm\n"
     ]
    }
   ],
   "source": [
    "import google.generativeai as genai\n",
    "import PIL.Image\n",
    "import os\n",
    "from dotenv import load_dotenv\n",
    "\n",
    "load_dotenv()\n",
    "genai.configure(api_key=os.environ[\"GOOGLE_API_KEY\"])\n",
    "img = PIL.Image.open('biology.jpg')\n",
    "\n",
    "model = genai.GenerativeModel(model_name=\"gemini-1.5-flash\")\n"
   ]
  },
  {
   "cell_type": "code",
   "execution_count": null,
   "metadata": {},
   "outputs": [],
   "source": [
    "response = model.generate_content([\"What is in this photo?\", img])\n",
    "print(response.text)"
   ]
  },
  {
   "cell_type": "code",
   "execution_count": 2,
   "metadata": {},
   "outputs": [
    {
     "name": "stdout",
     "output_type": "stream",
     "text": [
      "The sun dips low, a fiery kiss,\n",
      "On hills that hold the fading light.\n",
      "A breeze whispers through the willow's bliss,\n",
      "As shadows dance in fading night. \n",
      "\n"
     ]
    }
   ],
   "source": [
    "response = model.generate_content([\"Write a short poem?\"])\n",
    "print(response.text)"
   ]
  },
  {
   "cell_type": "code",
   "execution_count": null,
   "metadata": {},
   "outputs": [],
   "source": []
  },
  {
   "cell_type": "code",
   "execution_count": 6,
   "metadata": {},
   "outputs": [],
   "source": [
    "def process_uploaded_image(uploaded_file):\n",
    "\tif uploaded_file is not None:\n",
    "\t\timage_data = uploaded_file.getvalue()\n",
    "\t\n",
    "\t\timage_parts = [\n",
    "\t\t\t{\n",
    "\t\t\t\t'mime_type': uploaded_file.type,\n",
    "\t\t\t\t'data': image_data\n",
    "\t\t\t}\n",
    "\t\t]\n",
    "\t\treturn image_parts\n",
    "\telse:\n",
    "\t\traise FileNotFoundError(\"No file uploaded\")"
   ]
  }
 ],
 "metadata": {
  "kernelspec": {
   "display_name": "venv",
   "language": "python",
   "name": "python3"
  },
  "language_info": {
   "codemirror_mode": {
    "name": "ipython",
    "version": 3
   },
   "file_extension": ".py",
   "mimetype": "text/x-python",
   "name": "python",
   "nbconvert_exporter": "python",
   "pygments_lexer": "ipython3",
   "version": "3.11.9"
  }
 },
 "nbformat": 4,
 "nbformat_minor": 2
}
