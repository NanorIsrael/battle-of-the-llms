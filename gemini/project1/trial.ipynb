{
 "cells": [
  {
   "cell_type": "code",
   "execution_count": 2,
   "metadata": {},
   "outputs": [
    {
     "name": "stdout",
     "output_type": "stream",
     "text": [
      "This is a colorful, illustrative map of biology. It breaks down the field into several major categories and subcategories and illustrates these concepts with colorful drawings. The map appears to be educational in nature and is likely intended to help people better understand the different branches of biology.\n"
     ]
    }
   ],
   "source": [
    "import google.generativeai as genai\n",
    "import PIL.Image\n",
    "import os\n",
    "from dotenv import load_dotenv\n",
    "\n",
    "load_dotenv()\n",
    "genai.configure(api_key=os.environ[\"GOOGLE_API_KEY\"])\n",
    "img = PIL.Image.open('biology.jpg')\n",
    "\n",
    "model = genai.GenerativeModel(model_name=\"gemini-1.5-flash\")\n",
    "response = model.generate_content([\"What is in this photo?\", img])\n",
    "print(response.text)"
   ]
  },
  {
   "cell_type": "code",
   "execution_count": null,
   "metadata": {},
   "outputs": [],
   "source": [
    "def process_uploaded_image(uploaded_file):\n",
    "\tif uploaded_file is not None:\n",
    "\t\timage_data = uploaded_file.getvalue()\n",
    "\t\n",
    "\t\timage_parts = [\n",
    "\t\t\t{\n",
    "\t\t\t\t'mime_type': uploaded_file.type,\n",
    "\t\t\t\t'data': image_data\n",
    "\t\t\t}\n",
    "\t\t]\n",
    "\t\treturn image_parts\n",
    "\telse:\n",
    "\t\traise FileNotFoundError(\"No file uploaded\")"
   ]
  }
 ],
 "metadata": {
  "kernelspec": {
   "display_name": "venv",
   "language": "python",
   "name": "python3"
  },
  "language_info": {
   "codemirror_mode": {
    "name": "ipython",
    "version": 3
   },
   "file_extension": ".py",
   "mimetype": "text/x-python",
   "name": "python",
   "nbconvert_exporter": "python",
   "pygments_lexer": "ipython3",
   "version": "3.11.9"
  }
 },
 "nbformat": 4,
 "nbformat_minor": 2
}
